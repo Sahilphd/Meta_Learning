{
  "nbformat": 4,
  "nbformat_minor": 0,
  "metadata": {
    "accelerator": "GPU",
    "colab": {
      "name": "Probe_Network.ipynb",
      "provenance": [],
      "collapsed_sections": []
    },
    "kernelspec": {
      "display_name": "Python 3",
      "name": "python3"
    },
    "language_info": {
      "name": "python"
    }
  },
  "cells": [
    {
      "cell_type": "code",
      "metadata": {
        "id": "KzaeKQewzhef"
      },
      "source": [
        "from keras import applications\n",
        "import tensorflow as tf\n",
        "import pandas as pd\n",
        "import numpy as np\n",
        "from keras.layers import Dense, Flatten, Dropout\n",
        "from keras.models import Model\n",
        "import itertools\n",
        "import matplotlib.pyplot as plt"
      ],
      "execution_count": null,
      "outputs": []
    },
    {
      "cell_type": "code",
      "source": [
        "d_name1 = \"Fruit_1\" #Name of plant disease detection task\n",
        "li = []\n",
        "li.append(d_name1)\n",
        "ll = pd.DataFrame(li,columns = ['Name'])"
      ],
      "metadata": {
        "id": "gM60HFfFe5So"
      },
      "execution_count": null,
      "outputs": []
    },
    {
      "cell_type": "code",
      "metadata": {
        "id": "8VBLiUPxfs-f"
      },
      "source": [
        "model = tf.keras.applications.MobileNet(input_shape=(224, 224,3), weights='imagenet', include_top=False)\n",
        "\n",
        "ep = 10 # ep = 10 for training the probe network till intermediate stage and 25 for training the model till convergence stage\n",
        "\n",
        "for layer in model.layers:\n",
        "    layer.trainable = False\n",
        "\n",
        "x = Flatten()(model.layers[-1].output)\n",
        "output= Dense(8, activation = 'softmax')(x) # 8 = no. of classes for disease classification task, varies from task to task\n",
        "\n",
        "model = Model(inputs = model.inputs, outputs = output)\n",
        "\n",
        "model.compile(optimizer = 'adam', loss = 'categorical_crossentropy', metrics = ['accuracy'])\n",
        "\n",
        "r1 = model.fit(training_set,epochs=ep,validation_data = val_set) #input the training set and validation set of the plant disease classification task\n"
      ],
      "execution_count": null,
      "outputs": []
    },
    {
      "cell_type": "code",
      "metadata": {
        "id": "TlhRx1WXt48E"
      },
      "source": [
        "li1 = []\n",
        "for layer1 in modelx.layers:\n",
        "  li1.append(layer1.get_weights()) # to extract the weights of the trained model"
      ],
      "execution_count": null,
      "outputs": []
    },
    {
      "cell_type": "code",
      "source": [
        "li2 = li1[-1][0] # extracting the weights of the edges between flatten layer and classification layer"
      ],
      "metadata": {
        "id": "AFhPefjNgD8O"
      },
      "execution_count": null,
      "outputs": []
    },
    {
      "cell_type": "code",
      "source": [
        "li3 = []\n",
        "for a1 in li2:\n",
        "  li3.append(max(a1))  # append the maximum weight value among all the edges originating from a single cell of flatten layer \n",
        "                       # in place of max other operations such as standard deviation, mean or variance may be applied to extract different meta-features "
      ],
      "metadata": {
        "id": "wGFG1p-vZh0A"
      },
      "execution_count": null,
      "outputs": []
    },
    {
      "cell_type": "code",
      "source": [
        "li3 = np.asarray(li3)\n",
        "li3 = li3.reshape(1,-1)\n",
        "df = pd.DataFrame(li3) # convert the extracted meta-features to dataframe\n",
        "df.to_csv(\"./vec/data1.csv\") # and the save the meta-features to the desitred directory"
      ],
      "metadata": {
        "id": "kSVTvtiOZs6Y"
      },
      "execution_count": null,
      "outputs": []
    },
    {
      "cell_type": "code",
      "source": [
        ""
      ],
      "metadata": {
        "id": "KDXZ1YByZiBH"
      },
      "execution_count": null,
      "outputs": []
    }
  ]
}