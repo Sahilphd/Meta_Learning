{
  "nbformat": 4,
  "nbformat_minor": 0,
  "metadata": {
    "accelerator": "GPU",
    "colab": {
      "name": "Pre_trained_Model.ipynb",
      "provenance": [],
      "collapsed_sections": []
    },
    "kernelspec": {
      "display_name": "Python 3",
      "name": "python3"
    },
    "language_info": {
      "name": "python"
    }
  },
  "cells": [
    {
      "cell_type": "code",
      "metadata": {
        "id": "KzaeKQewzhef"
      },
      "source": [
        "from keras import applications\n",
        "import tensorflow as tf\n",
        "import pandas as pd\n",
        "import numpy as np\n",
        "from keras.layers import Dense, Flatten, Dropout\n",
        "from keras.models import Model\n",
        "import itertools\n",
        "import matplotlib.pyplot as plt"
      ],
      "execution_count": null,
      "outputs": []
    },
    {
      "cell_type": "code",
      "metadata": {
        "id": "8VBLiUPxfs-f"
      },
      "source": [
        "csv_logger = tf.keras.callbacks.CSVLogger('/content/drive/MyDrive/Results/Xception_training.csv', append=True) #path for saving the training logs of the models\n",
        "\n",
        "model = tf.keras.applications.Xception(input_shape=(224, 224,3), weights='imagenet', include_top=False) #tf.keras.applications.name of the pre-trained model\n",
        "\n",
        "\n",
        "for layer in model.layers:\n",
        "    layer.trainable = False\n",
        "\n",
        "x = Flatten()(model.layers[-1].output)\n",
        "output= Dense(8, activation = 'softmax')(x) # 8 = no. of classes for disease classification task, varies from task to task\n",
        "\n",
        "model = Model(inputs = model.inputs, outputs = output)\n",
        "\n",
        "model.compile(optimizer = 'adam', loss = 'categorical_crossentropy', metrics = ['accuracy'])\n",
        "\n",
        "r1 = model.fit(training_set,epochs=30,validation_data = val_set, callbacks = [csv_logger]) #input the training set and validation set of the plant disease classification task\n",
        "\n",
        "plt.plot(r1.history['loss'],label ='loss')\n",
        "plt.plot(r1.history['val_loss'],label = 'val_loss')\n",
        "plt.legend() \n"
      ],
      "execution_count": null,
      "outputs": []
    },
    {
      "cell_type": "code",
      "metadata": {
        "id": "TlhRx1WXt48E"
      },
      "source": [
        "plt.plot(r1.history['accuracy'],label ='accuracy')\n",
        "plt.plot(r1.history['val_accuracy'],label = 'val_accuracy')\n",
        "plt.legend()"
      ],
      "execution_count": null,
      "outputs": []
    },
    {
      "cell_type": "code",
      "source": [
        "Y_pred = model.predict_generator(test_set) #testing the model\n",
        "y_pred = np.argmax(Y_pred, axis=1)\n",
        "\n",
        "print('Confusion Matrix')\n",
        "cm = confusion_matrix(test_set.classes, y_pred)\n",
        "df = pd.DataFrame(cm, index=None)\n",
        "\n",
        "print(cm)\n"
      ],
      "metadata": {
        "id": "wGFG1p-vZh0A"
      },
      "execution_count": null,
      "outputs": []
    },
    {
      "cell_type": "code",
      "source": [
        "print('Classification Report')\n",
        "print(classification_report(test_set.classes, y_pred))\n"
      ],
      "metadata": {
        "id": "kSVTvtiOZs6Y"
      },
      "execution_count": null,
      "outputs": []
    },
    {
      "cell_type": "code",
      "source": [
        ""
      ],
      "metadata": {
        "id": "KDXZ1YByZiBH"
      },
      "execution_count": null,
      "outputs": []
    }
  ]
}