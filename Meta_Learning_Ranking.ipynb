{
  "cells": [
    {
      "cell_type": "code",
      "execution_count": null,
      "metadata": {
        "id": "sKnrgtymHo4j"
      },
      "outputs": [],
      "source": [
        "import numpy as np\n",
        "import pandas as pd\n",
        "import matplotlib.pyplot as plt\n",
        "\n",
        "from sklearn.tree import DecisionTreeRegressor\n",
        "from sklearn.ensemble import RandomForestRegressor\n",
        "from sklearn.svm import SVR\n",
        "\n",
        "from sklearn.model_selection import train_test_split\n",
        "from sklearn.metrics import mean_squared_error\n",
        "from sklearn.metrics import r2_score\n",
        "\n",
        "\n",
        "z = 5 # top-n rankings where z can be 1,3 or 5\n",
        "\n",
        "dataset=pd.read_csv(\"/content/drive/MyDrive/Meta_Learning/meta_data.csv\") #path for meta_dataset\n",
        "dataset"
      ]
    },
    {
      "cell_type": "code",
      "execution_count": null,
      "metadata": {
        "id": "onwAyyg2H8uU"
      },
      "outputs": [],
      "source": [
        "X=dataset.iloc[:,1:-2]\n",
        "Y=dataset.iloc[:,-2:-1]\n",
        "print(X)"
      ]
    },
    {
      "cell_type": "code",
      "execution_count": null,
      "metadata": {
        "id": "QcNZ0abJI36a"
      },
      "outputs": [],
      "source": [
        "m = pd.read_csv(\"/content/drive/MyDrive/Meta_Learning/Models.csv\") #name of the pre-trained models used\n",
        "m"
      ]
    },
    {
      "cell_type": "code",
      "execution_count": null,
      "metadata": {
        "id": "36z-NSpyI380"
      },
      "outputs": [],
      "source": [
        "X_train,X_test,Y_train,Y_test=train_test_split(X,Y,test_size=0.2,random_state=20) #dataset split for training the meta_learner model\n",
        "X_train=np.array(X_train)\n",
        "Y_train=np.array(Y_train)"
      ]
    },
    {
      "cell_type": "markdown",
      "metadata": {
        "id": "KsDJAFRh3p2h"
      },
      "source": [
        "UNCOMMENT FOR USING DECISION TREE"
      ]
    },
    {
      "cell_type": "code",
      "execution_count": null,
      "metadata": {
        "colab": {
          "base_uri": "https://localhost:8080/"
        },
        "id": "4hPJ34RII3_o",
        "outputId": "fc6f58f5-636f-448d-e47f-a85e09f536f4"
      },
      "outputs": [
        {
          "output_type": "execute_result",
          "data": {
            "text/plain": [
              "DecisionTreeRegressor(random_state=0)"
            ]
          },
          "metadata": {},
          "execution_count": 59
        }
      ],
      "source": [
        "reg=DecisionTreeRegressor(random_state=0) # training meta_learner\n",
        "reg.fit(X_train, Y_train)"
      ]
    },
    {
      "cell_type": "markdown",
      "metadata": {
        "id": "4-sNh9i_3tyU"
      },
      "source": [
        "UNCOMMENT FOR USING RANDOM FOREST"
      ]
    },
    {
      "cell_type": "code",
      "execution_count": null,
      "metadata": {
        "id": "4EOduVF53iwL"
      },
      "outputs": [],
      "source": [
        "# reg=RandomForestRegressor(n_estimators=50,random_state=0) # training meta_learner\n",
        "# reg.fit(X_train, Y_train)"
      ]
    },
    {
      "cell_type": "markdown",
      "metadata": {
        "id": "rePvqnQM3xX_"
      },
      "source": [
        "UNCOMMENT FOR USING SVR"
      ]
    },
    {
      "cell_type": "code",
      "execution_count": null,
      "metadata": {
        "id": "NLhDSXUV30CU"
      },
      "outputs": [],
      "source": [
        "# reg=SVR(kernel = 'rbf') # training meta_learner\n",
        "# reg.fit(X_train, Y_train)"
      ]
    },
    {
      "cell_type": "code",
      "execution_count": null,
      "metadata": {
        "id": "MBmbOXqGI4B0"
      },
      "outputs": [],
      "source": [
        "y_pred= reg.predict(X_test)\n",
        "print(mean_squared_error(Y_test, y_pred))\n",
        "print(r2_score(Y_test, y_pred))"
      ]
    },
    {
      "cell_type": "markdown",
      "metadata": {
        "id": "KkWeOd2g2Fbf"
      },
      "source": [
        "For VEG 3"
      ]
    },
    {
      "cell_type": "code",
      "execution_count": null,
      "metadata": {
        "id": "ssODmof-1okC"
      },
      "outputs": [],
      "source": [
        "data4=pd.read_csv(\"/content/drive/MyDrive/Meta_Learning/meta_Veg_3.csv\") # path for meta_features extracted by probe network for plant disease classification task Veg3 \n",
        "data4"
      ]
    },
    {
      "cell_type": "code",
      "execution_count": null,
      "metadata": {
        "id": "JDP9GJ3K1olX"
      },
      "outputs": [],
      "source": [
        "X4=data4.iloc[:,1:-2]\n",
        "Y4=data4.iloc[:,-2:-1]"
      ]
    },
    {
      "cell_type": "code",
      "execution_count": null,
      "metadata": {
        "id": "HtsoSXbv1on_"
      },
      "outputs": [],
      "source": [
        "y_4= reg.predict(X4)\n",
        "veg_3 = pd.DataFrame(y_4, columns = ['predicted'])"
      ]
    },
    {
      "cell_type": "code",
      "execution_count": null,
      "metadata": {
        "id": "TUzCJvHE1opu"
      },
      "outputs": [],
      "source": [
        "res_veg_3 = pd.concat([m,Y4,veg_3],axis=1) #dataframe with actual and predicted accuracies for different models\n",
        "veg_3_pred = res_veg_3.drop(['Accuracy'], axis=1)\n",
        "veg_3_actual = res_veg_3.drop(['predicted'], axis=1)"
      ]
    },
    {
      "cell_type": "code",
      "execution_count": null,
      "metadata": {
        "id": "cofNHQE91ouE"
      },
      "outputs": [],
      "source": [
        "veg_3_actual = veg_3_actual.sort_values(by=['Accuracy'], ascending=False) # sorting the actual rankings of the model\n",
        "veg_3_pred = veg_3_pred.sort_values(by=['predicted'], ascending=False) # sorting the predicted rankings of the model"
      ]
    },
    {
      "cell_type": "code",
      "execution_count": null,
      "metadata": {
        "id": "b_0Go5Ts1ovz"
      },
      "outputs": [],
      "source": [
        "veg_3_f1 = veg_3_actual[\"Models\"]\n",
        "veg_3_f1 = veg_3_f1[:z]\n",
        "veg_3_f2 = veg_3_pred[\"Models\"]\n",
        "veg_3_f2 = veg_3_f2[:z]"
      ]
    },
    {
      "cell_type": "code",
      "execution_count": null,
      "metadata": {
        "id": "8osly88u1ozV"
      },
      "outputs": [],
      "source": [
        "veg_3_f1 #actual rankings"
      ]
    },
    {
      "cell_type": "code",
      "execution_count": null,
      "metadata": {
        "id": "Dcj0eXuszet4"
      },
      "outputs": [],
      "source": [
        "veg_3_f2 #predicted rankings "
      ]
    },
    {
      "cell_type": "markdown",
      "metadata": {
        "id": "BaKrz_hWwAGt"
      },
      "source": [
        "COMPARING THE RANKINGS"
      ]
    },
    {
      "cell_type": "code",
      "execution_count": null,
      "metadata": {
        "id": "Ri62NrTVwDhP"
      },
      "outputs": [],
      "source": [
        "#Calculating the RBO score for predicted vs actual ranings\n",
        "\n",
        "import math\n",
        "def rbo(list1, list2, p=0.9):\n",
        "   # tail recursive helper function\n",
        "   def helper(ret, i, d):\n",
        "       l1 = set(list1[:i]) if i < len(list1) else set(list1)\n",
        "       l2 = set(list2[:i]) if i < len(list2) else set(list2)\n",
        "       a_d = len(l1.intersection(l2))/i\n",
        "       term = math.pow(p, i) * a_d\n",
        "       if d == i:\n",
        "           return ret + term\n",
        "       return helper(ret + term, i + 1, d)\n",
        "   k = max(len(list1), len(list2))\n",
        "   x_k = len(set(list1).intersection(set(list2)))\n",
        "   summation = helper(0, 1, k)\n",
        "   return ((float(x_k)/k) * math.pow(p, k)) + ((1-p)/p * summation)\n",
        "\n",
        "print(\"Veg3\")\n",
        "print(rbo(veg_3_f1,veg_3_f2))"
      ]
    },
    {
      "cell_type": "code",
      "execution_count": null,
      "metadata": {
        "id": "iutUlfAfwDsU"
      },
      "outputs": [],
      "source": [
        ""
      ]
    }
  ],
  "metadata": {
    "colab": {
      "collapsed_sections": [],
      "name": "Meta_Learning_Ranking.ipynb",
      "provenance": []
    },
    "kernelspec": {
      "display_name": "Python 3",
      "language": "python",
      "name": "python3"
    },
    "language_info": {
      "codemirror_mode": {
        "name": "ipython",
        "version": 3
      },
      "file_extension": ".py",
      "mimetype": "text/x-python",
      "name": "python",
      "nbconvert_exporter": "python",
      "pygments_lexer": "ipython3",
      "version": "3.6.5"
    }
  },
  "nbformat": 4,
  "nbformat_minor": 0
}
